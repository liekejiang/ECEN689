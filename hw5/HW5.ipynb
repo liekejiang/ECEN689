{
 "cells": [
  {
   "cell_type": "markdown",
   "metadata": {},
   "source": [
    "HW1\n"
   ]
  },
  {
   "cell_type": "code",
   "execution_count": 2,
   "metadata": {},
   "outputs": [],
   "source": [
    "import numpy as np\n",
    "import matplotlib\n",
    "import random\n",
    "from math import *\n",
    "from pylab import *\n",
    "\n",
    "def Htrue(x):\n",
    "    return cos(2*pi*x)\n",
    "\n",
    "def wi():\n",
    "    return numpy.random.normal(0,0.01) \n",
    "\n",
    "def yi(x):\n",
    "    return Htrue(x) + wi(); \n"
   ]
  },
  {
   "cell_type": "code",
   "execution_count": 77,
   "metadata": {},
   "outputs": [
    {
     "data": {
      "text/plain": [
       "array([[10.        ,  6.02877257,  4.42433217,  3.57050438],\n",
       "       [ 6.02877257,  4.42433217,  3.57050438,  3.03569044],\n",
       "       [ 4.42433217,  3.57050438,  3.03569044,  2.66355931],\n",
       "       [ 3.57050438,  3.03569044,  2.66355931,  2.3852015 ]])"
      ]
     },
     "execution_count": 77,
     "metadata": {},
     "output_type": "execute_result"
    }
   ],
   "source": [
    "def sumPow(arr,n):\n",
    "    count = 0\n",
    "    for i in arr:\n",
    "        count += pow(i,n)\n",
    "    return count\n",
    "\n",
    "\n",
    "def xArray(Xi,n):\n",
    "    X = [[0 for _ in range(n)] for _ in range(n)]\n",
    "    for i in range(n):\n",
    "        for j in range(n):\n",
    "            X[i][j] = sumPow(Xi,i+j)\n",
    "    return np.array(X)\n"
   ]
  },
  {
   "cell_type": "code",
   "execution_count": 316,
   "metadata": {},
   "outputs": [],
   "source": [
    "def ySumPow(arr,arr2,n):\n",
    "    count = 0\n",
    "    for i in range(len(arr)):\n",
    "        count += pow(arr[i],n)*arr2[i]\n",
    "    return count\n",
    "\n",
    "\n",
    "def yArray(Xi,Yi,n):\n",
    "    Y = [[0] for _ in range(n)]\n",
    "    for i in range(n):\n",
    "        Y[i][0] = ySumPow(Xi,Yi,i)\n",
    "    return np.array(Y)\n"
   ]
  },
  {
   "cell_type": "code",
   "execution_count": 79,
   "metadata": {},
   "outputs": [],
   "source": [
    "def compYi(res,Xi):\n",
    "    compY = [0 for _ in range(len(Xi))]\n",
    "    for i in range(len(Xi)):\n",
    "        for j in range(len(res)):\n",
    "            compY[i] += pow(Xi[i],j)*res[j][0];\n",
    "    return compY\n"
   ]
  },
  {
   "cell_type": "code",
   "execution_count": 5,
   "metadata": {},
   "outputs": [
    {
     "ename": "NameError",
     "evalue": "name 'Xi' is not defined",
     "output_type": "error",
     "traceback": [
      "\u001b[1;31m---------------------------------------------------------------------------\u001b[0m",
      "\u001b[1;31mNameError\u001b[0m                                 Traceback (most recent call last)",
      "\u001b[1;32m<ipython-input-5-875f180adbc3>\u001b[0m in \u001b[0;36m<module>\u001b[1;34m\u001b[0m\n\u001b[1;32m----> 1\u001b[1;33m \u001b[0mplot\u001b[0m\u001b[1;33m(\u001b[0m\u001b[0mXi\u001b[0m\u001b[1;33m,\u001b[0m\u001b[0mcompY\u001b[0m\u001b[1;33m)\u001b[0m\u001b[1;33m\u001b[0m\u001b[1;33m\u001b[0m\u001b[0m\n\u001b[0m\u001b[0;32m      2\u001b[0m \u001b[1;33m\u001b[0m\u001b[0m\n\u001b[0;32m      3\u001b[0m \u001b[0mexampleX\u001b[0m \u001b[1;33m=\u001b[0m \u001b[1;33m[\u001b[0m\u001b[1;36m0\u001b[0m \u001b[1;32mfor\u001b[0m \u001b[0m_\u001b[0m \u001b[1;32min\u001b[0m \u001b[0mrange\u001b[0m\u001b[1;33m(\u001b[0m\u001b[0mlen\u001b[0m\u001b[1;33m(\u001b[0m\u001b[0mXi\u001b[0m\u001b[1;33m)\u001b[0m\u001b[1;33m)\u001b[0m\u001b[1;33m]\u001b[0m\u001b[1;33m\u001b[0m\u001b[1;33m\u001b[0m\u001b[0m\n\u001b[0;32m      4\u001b[0m \u001b[1;32mfor\u001b[0m \u001b[0mi\u001b[0m \u001b[1;32min\u001b[0m \u001b[0mrange\u001b[0m\u001b[1;33m(\u001b[0m\u001b[0mlen\u001b[0m\u001b[1;33m(\u001b[0m\u001b[0mexampleX\u001b[0m\u001b[1;33m)\u001b[0m\u001b[1;33m)\u001b[0m\u001b[1;33m:\u001b[0m\u001b[1;33m\u001b[0m\u001b[1;33m\u001b[0m\u001b[0m\n\u001b[0;32m      5\u001b[0m     \u001b[0mexampleX\u001b[0m\u001b[1;33m[\u001b[0m\u001b[0mi\u001b[0m\u001b[1;33m]\u001b[0m \u001b[1;33m=\u001b[0m \u001b[0mXi\u001b[0m\u001b[1;33m[\u001b[0m\u001b[0mi\u001b[0m\u001b[1;33m]\u001b[0m\u001b[1;33m*\u001b[0m\u001b[1;36m2\u001b[0m\u001b[1;33m*\u001b[0m\u001b[0mpi\u001b[0m\u001b[1;33m\u001b[0m\u001b[1;33m\u001b[0m\u001b[0m\n",
      "\u001b[1;31mNameError\u001b[0m: name 'Xi' is not defined"
     ]
    }
   ],
   "source": [
    "plot(Xi,compY)\n",
    "\n",
    "exampleX = [0 for _ in range(len(Xi))]\n",
    "for i in range(len(exampleX)):\n",
    "    exampleX[i] = Xi[i]*2*pi\n",
    "\n",
    "plot(Xi,np.cos(exampleX))"
   ]
  },
  {
   "cell_type": "code",
   "execution_count": 439,
   "metadata": {},
   "outputs": [
    {
     "name": "stdout",
     "output_type": "stream",
     "text": [
      "[0.001540093177898938, 0.022842494051287465, 0.023789663836763397, 0.028348721875579797, 0.06306347603101858, 0.13245078338050353, 0.1802091767427182, 0.19424975156740854, 0.22248927562579135, 0.40452132734062307, 0.42542731358988495, 0.522188168805324, 0.5364142141222829, 0.63634004225514, 0.6469829503191874, 0.714867759380575, 0.813636373387437, 0.823696179835716, 0.874880651498501, 0.8980691255300098]\n"
     ]
    }
   ],
   "source": [
    "Xi =[uniform(0,1) for _ in range(20)]\n",
    "Xi.sort()\n",
    "print(Xi)\n",
    "Test_Xi =[uniform(0,1) for _ in range(100)]\n",
    "Test_Xi.sort()"
   ]
  },
  {
   "cell_type": "code",
   "execution_count": 440,
   "metadata": {},
   "outputs": [
    {
     "data": {
      "text/plain": [
       "[0.9809614348650864,\n",
       " 0.991974638579309,\n",
       " 0.9830648791323456,\n",
       " 0.9895198283105743,\n",
       " 0.914365782221486,\n",
       " 0.680274085328129,\n",
       " 0.4162386762266597,\n",
       " 0.32897538622566397,\n",
       " 0.16945423900847986,\n",
       " -0.8087679921581413,\n",
       " -0.9039032250494459,\n",
       " -0.9748820315125798,\n",
       " -0.9906314312511822,\n",
       " -0.6615521495489082,\n",
       " -0.6246947151537317,\n",
       " -0.21763010352479548,\n",
       " 0.37682148167939566,\n",
       " 0.43715248005884405,\n",
       " 0.707660869030937,\n",
       " 0.7948222449798854]"
      ]
     },
     "execution_count": 440,
     "metadata": {},
     "output_type": "execute_result"
    }
   ],
   "source": [
    "Yi = [yi(Xi[i]) for i in range(20)]\n",
    "Yi"
   ]
  },
  {
   "cell_type": "code",
   "execution_count": 441,
   "metadata": {},
   "outputs": [],
   "source": [
    "def leastSquareFit(Xi,Yi,n):\n",
    "    # First term \n",
    "    X = xArray(Xi,n)\n",
    "    # Second term\n",
    "    Y = yArray(Xi,Yi,n)\n",
    "    # Compute coefficent with num of degree n\n",
    "    inv = np.linalg.inv(X)\n",
    "    res = inv.dot(Y)\n",
    "    # Get Y points by fitting function\n",
    "    compY = compYi(res,Xi)\n",
    "    \n",
    "    # Offical fit algorithm\n",
    "    reg = list(np.polyfit(Xi,Yi,n-1))\n",
    "    reg.reverse()\n",
    "    reg = np.array(reg)\n",
    "    reg.resize((len(reg),1))\n",
    "    regY = compYi(reg,Xi)\n",
    "    \n",
    "    #Test Error\n",
    "    Test_X = xArray(Test_Xi,n)\n",
    "    Test_Y = yArray(Test_Xi,[yi(Test_Xi[i]) for i in range(100)],n)\n",
    "    test_inv = np.linalg.inv(Test_X)\n",
    "    test_res = test_inv.dot(Test_Y)\n",
    "    test_compY = compYi(test_res,Test_Xi)\n",
    "    \n",
    "    # Get Y true points and error\n",
    "    exampleX = [0 for _ in range(len(Xi))]\n",
    "    trainingError = 0\n",
    "    testError = 0\n",
    "    for i in range(len(exampleX)):\n",
    "        exampleX[i] = Xi[i]*2*pi\n",
    "        trainingError += pow(np.cos(exampleX[i]) - compY[i],2)\n",
    "    for i in range(100):\n",
    "        testError += pow(np.cos(2*pi*Test_Xi[i]) - test_compY[i],2)\n",
    "    # Draw line\n",
    "    plot(Xi,regY,label=\"offical polyfit function\")\n",
    "    \n",
    "    draw_x = np.linspace(0.0, 1.0, 1000)\n",
    "    plot(draw_x,np.cos(2*pi*draw_x),label=\"cos 2 pi x\")\n",
    "    plot(Xi,compY,label=\"degree of \" + str(n))\n",
    "    legend(loc='upper left')\n",
    "    print(\"the coefficient of fitting with degree of \" + str(n-1) + \" is :\" )\n",
    "    print(res)\n",
    "    print(\"the training error is \"+ str(trainingError))\n",
    "    print(\"the test error is \"+ str(testError))"
   ]
  },
  {
   "cell_type": "code",
   "execution_count": 452,
   "metadata": {
    "scrolled": false
   },
   "outputs": [
    {
     "name": "stdout",
     "output_type": "stream",
     "text": [
      "the coefficient of fitting with degree of 10 is :\n",
      "[[ 9.79101757e-01]\n",
      " [ 1.65117949e+00]\n",
      " [-6.68939409e+01]\n",
      " [ 6.26217087e+02]\n",
      " [-4.43818628e+03]\n",
      " [ 1.89230688e+04]\n",
      " [-4.85599961e+04]\n",
      " [ 7.66088770e+04]\n",
      " [-7.28134707e+04]\n",
      " [ 3.82313906e+04]\n",
      " [-8.51447412e+03]]\n",
      "the training error is 0.0013216669102674543\n",
      "the test error is 0.0011086703340466996\n"
     ]
    },
    {
     "data": {
      "image/png": "[encoded data removed]",
      "text/plain": [
       "<Figure size 432x288 with 1 Axes>"
      ]
     },
     "metadata": {
      "needs_background": "light"
     },
     "output_type": "display_data"
    }
   ],
   "source": [
    "leastSquareFit(Xi,Yi,11)"
   ]
  },
  {
   "cell_type": "code",
   "execution_count": 438,
   "metadata": {},
   "outputs": [
    {
     "data": {
      "text/plain": [
       "<matplotlib.legend.Legend at 0x2b76e467c88>"
      ]
     },
     "execution_count": 438,
     "metadata": {},
     "output_type": "execute_result"
    },
    {
     "data": {
      "image/png": "[encoded data removed]",
      "text/plain": [
       "<Figure size 432x288 with 1 Axes>"
      ]
     },
     "metadata": {
      "needs_background": "light"
     },
     "output_type": "display_data"
    }
   ],
   "source": [
    "x = [0,1,2,3,4,5,6,7,8,9,10]\n",
    "train = [3.8904219344720072,3.878092080662361,0.3655394837095259,0.35680898051707277,0.002883104221433988,0.002243961516050272,0.00022967687858516163, 0.000249969682197783,0.00032180974319763754,0.00040670725798459177,1.3002783496355566 ]\n",
    "test = [51.74454293077419,50.25193668863816,4.513113579005623, 4.495893336993241,0.034833123799525065,0.03496405285779574, 0.0007599882978944738,0.0005136458631709001,0.0005767847046697304,0.0012467640079042272,0.001163685478535301]\n",
    "\n",
    "plot(x,train,label=\"training error\")\n",
    "plot(x,test,label=\"test error\")\n",
    "legend(loc='upper left')"
   ]
  },
  {
   "cell_type": "code",
   "execution_count": 4,
   "metadata": {},
   "outputs": [
    {
     "data": {
      "text/plain": [
       "matrix([[0., 0., 0., 0., 0., 0., 0., 0., 0., 0.],\n",
       "        [0., 0., 0., 0., 0., 0., 0., 0., 0., 0.],\n",
       "        [0., 0., 0., 0., 0., 0., 0., 0., 0., 0.],\n",
       "        [0., 0., 0., 0., 0., 0., 0., 0., 0., 0.],\n",
       "        [0., 0., 0., 0., 0., 0., 0., 0., 0., 0.],\n",
       "        [0., 0., 0., 0., 0., 0., 0., 0., 0., 0.],\n",
       "        [0., 0., 0., 0., 0., 0., 0., 0., 0., 0.],\n",
       "        [0., 0., 0., 0., 0., 0., 0., 0., 0., 0.],\n",
       "        [0., 0., 0., 0., 0., 0., 0., 0., 0., 0.],\n",
       "        [0., 0., 0., 0., 0., 0., 0., 0., 0., 0.],\n",
       "        [0., 0., 0., 0., 0., 0., 0., 0., 0., 0.]])"
      ]
     },
     "execution_count": 4,
     "metadata": {},
     "output_type": "execute_result"
    }
   ],
   "source": [
    "np.mat(np.zeros([10, 10 + 1])).T"
   ]
  }
 ],
 "metadata": {
  "kernelspec": {
   "display_name": "Python 3",
   "language": "python",
   "name": "python3"
  },
  "language_info": {
   "codemirror_mode": {
    "name": "ipython",
    "version": 3
   },
   "file_extension": ".py",
   "mimetype": "text/x-python",
   "name": "python",
   "nbconvert_exporter": "python",
   "pygments_lexer": "ipython3",
   "version": "3.7.3"
  }
 },
 "nbformat": 4,
 "nbformat_minor": 2
}
